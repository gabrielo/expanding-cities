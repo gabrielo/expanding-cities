{
 "cells": [
  {
   "cell_type": "code",
   "execution_count": 2,
   "metadata": {
    "collapsed": true
   },
   "outputs": [],
   "source": [
    "import csv\n",
    "import array, csv, datetime, math, random\n",
    "import numpy as np\n",
    "import matplotlib.pyplot as plt\n",
    "\n",
    "def LngLatToWebMercator(lnglat):\n",
    "    (lng, lat) = lnglat\n",
    "    x = (lng + 180.0) * 256.0 / 360.0\n",
    "    y = 128.0 - math.log(math.tan((lat + 90.0) * math.pi / 360.0)) * 128.0 / math.pi\n",
    "    return [x, y]\n",
    "\n",
    "def YearMonthDayToEpoch(year, month, day):\n",
    "  return (datetime.datetime(int(year), int(month), int(day)) - datetime.datetime(1970, 1, 1)).total_seconds()\n"
   ]
  },
  {
   "cell_type": "code",
   "execution_count": 3,
   "metadata": {
    "collapsed": true
   },
   "outputs": [],
   "source": [
    "filename = \"WUP2014-F12-Cities_Over_300K igarape/data.csv\"\n",
    "igarapeData = []\n",
    "with open(filename) as f:\n",
    "    reader = csv.DictReader(f)\n",
    "    for row in reader:\n",
    "        igarapeData.append(row)"
   ]
  },
  {
   "cell_type": "code",
   "execution_count": 4,
   "metadata": {},
   "outputs": [
    {
     "data": {
      "text/plain": [
       "{'1950': '   82',\n",
       " '1955': '   86',\n",
       " '1960': '   89',\n",
       " '1965': '   93',\n",
       " '1970': '   102',\n",
       " '1975': '   120',\n",
       " '1980': '   144',\n",
       " '1985': '   162',\n",
       " '1990': '   183',\n",
       " '1995': '   207',\n",
       " '2000': '   234',\n",
       " '2005': '   264',\n",
       " '2010': '   298',\n",
       " '2015': '   337',\n",
       " '2020': '   392',\n",
       " '2025': '   470',\n",
       " '2030': '   565',\n",
       " 'City Code': '20001',\n",
       " 'Country Code': '4',\n",
       " 'Country or area': 'Afghanistan',\n",
       " 'Index': '1',\n",
       " 'Latitude': '34.35',\n",
       " 'Longitude': '62.20',\n",
       " 'Note': '',\n",
       " 'Urban Agglomeration': 'Herat'}"
      ]
     },
     "execution_count": 4,
     "metadata": {},
     "output_type": "execute_result"
    }
   ],
   "source": [
    "igarapeData[0]"
   ]
  },
  {
   "cell_type": "code",
   "execution_count": 19,
   "metadata": {
    "collapsed": true
   },
   "outputs": [],
   "source": [
    "points = []\n",
    "for row in igarapeData:\n",
    "    lat = float(row['Latitude'])\n",
    "    lng = float(row['Longitude'])\n",
    "    x,y = LngLatToWebMercator((lng,lat))\n",
    "    for year in range(1950,2030, 5):\n",
    "        currentYear = year\n",
    "        nextYear = year + 5\n",
    "        currentValue = int(row[str(currentYear)].replace(' ', ''))\n",
    "        nextValue = int(row[str(nextYear)].replace(' ',''))\n",
    "        points += (x,y,currentYear,currentValue,nextYear,nextValue)\n",
    "array.array('f', points).tofile(open('expanding-cities-igarape.bin', 'wb'))"
   ]
  },
  {
   "cell_type": "code",
   "execution_count": null,
   "metadata": {
    "collapsed": true
   },
   "outputs": [],
   "source": []
  }
 ],
 "metadata": {
  "kernelspec": {
   "display_name": "Python 2",
   "language": "python",
   "name": "python2"
  },
  "language_info": {
   "codemirror_mode": {
    "name": "ipython",
    "version": 2
   },
   "file_extension": ".py",
   "mimetype": "text/x-python",
   "name": "python",
   "nbconvert_exporter": "python",
   "pygments_lexer": "ipython2",
   "version": "2.7.13"
  }
 },
 "nbformat": 4,
 "nbformat_minor": 2
}
